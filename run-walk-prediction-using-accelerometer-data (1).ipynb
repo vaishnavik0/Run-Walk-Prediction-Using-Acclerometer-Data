{
 "cells": [
  {
   "cell_type": "code",
   "execution_count": 2,
   "id": "1295486b",
   "metadata": {
    "_cell_guid": "b1076dfc-b9ad-4769-8c92-a6c4dae69d19",
    "_uuid": "8f2839f25d086af736a60e9eeb907d3b93b6e0e5",
    "execution": {
     "iopub.execute_input": "2021-07-26T02:38:46.462179Z",
     "iopub.status.busy": "2021-07-26T02:38:46.461453Z",
     "iopub.status.idle": "2021-07-26T02:38:53.509267Z",
     "shell.execute_reply": "2021-07-26T02:38:53.510035Z",
     "shell.execute_reply.started": "2021-07-26T02:38:12.668006Z"
    },
    "papermill": {
     "duration": 7.11046,
     "end_time": "2021-07-26T02:38:53.510403",
     "exception": false,
     "start_time": "2021-07-26T02:38:46.399943",
     "status": "completed"
    },
    "tags": []
   },
   "outputs": [
    {
     "name": "stdout",
     "output_type": "stream",
     "text": [
      "Setup Complete\n"
     ]
    }
   ],
   "source": [
    "import numpy as np\n",
    "import pandas as pd\n",
    "import os\n",
    "import matplotlib.pyplot as plt\n",
    "import matplotlib.dates as mdates\n",
    "import itertools\n",
    "from datetime import datetime\n",
    "import seaborn as sns\n",
    "from tqdm import tqdm\n",
    "import math\n",
    "\n",
    "pd.plotting.register_matplotlib_converters()\n",
    "%matplotlib inline`\n",
    "\n",
    "\n",
    "import tensorflow as tf\n",
    "from tensorflow import keras\n",
    "from tensorflow.keras import layers\n",
    "\n",
    "\n",
    "from keras.utils import np_utils\n",
    "from keras.models import Model, Sequential, load_model\n",
    "from keras.layers import Dense, Conv2D, MaxPool2D, Flatten, Reshape, Dropout, BatchNormalization\n",
    "from keras.optimizer_v2 import adam\n",
    "from keras.callbacks import ModelCheckpoint, EarlyStopping\n",
    "\n",
    "\n",
    "from sklearn.metrics import confusion_matrix,classification_report,accuracy_score\n",
    "from sklearn.model_selection import train_test_split\n",
    "from sklearn.linear_model import LogisticRegression\n",
    "from sklearn.utils import shuffle\n",
    "from sklearn.preprocessing import StandardScaler\n",
    "from sklearn.neighbors import KNeighborsClassifier\n",
    "from sklearn.svm import SVC\n",
    "from sklearn.naive_bayes import GaussianNB\n",
    "from sklearn import datasets, neighbors\n",
    "from mlxtend.plotting import plot_decision_regions\n",
    "\n",
    "print(\"Setup Complete\")"
   ]
  },
  {
   "cell_type": "code",
   "execution_count": 3,
   "id": "12a33aa4",
   "metadata": {
    "execution": {
     "iopub.execute_input": "2021-07-26T02:38:53.598058Z",
     "iopub.status.busy": "2021-07-26T02:38:53.597404Z",
     "iopub.status.idle": "2021-07-26T02:38:53.887092Z",
     "shell.execute_reply": "2021-07-26T02:38:53.886259Z",
     "shell.execute_reply.started": "2021-07-26T02:33:50.308202Z"
    },
    "papermill": {
     "duration": 0.335027,
     "end_time": "2021-07-26T02:38:53.887241",
     "exception": false,
     "start_time": "2021-07-26T02:38:53.552214",
     "status": "completed"
    },
    "tags": []
   },
   "outputs": [
    {
     "data": {
      "text/html": [
       "<div>\n",
       "<style scoped>\n",
       "    .dataframe tbody tr th:only-of-type {\n",
       "        vertical-align: middle;\n",
       "    }\n",
       "\n",
       "    .dataframe tbody tr th {\n",
       "        vertical-align: top;\n",
       "    }\n",
       "\n",
       "    .dataframe thead th {\n",
       "        text-align: right;\n",
       "    }\n",
       "</style>\n",
       "<table border=\"1\" class=\"dataframe\">\n",
       "  <thead>\n",
       "    <tr style=\"text-align: right;\">\n",
       "      <th></th>\n",
       "      <th>date</th>\n",
       "      <th>time</th>\n",
       "      <th>username</th>\n",
       "      <th>wrist</th>\n",
       "      <th>activity</th>\n",
       "      <th>acceleration_x</th>\n",
       "      <th>acceleration_y</th>\n",
       "      <th>acceleration_z</th>\n",
       "      <th>gyro_x</th>\n",
       "      <th>gyro_y</th>\n",
       "      <th>gyro_z</th>\n",
       "    </tr>\n",
       "  </thead>\n",
       "  <tbody>\n",
       "    <tr>\n",
       "      <th>0</th>\n",
       "      <td>2017-6-30</td>\n",
       "      <td>13:51:15:847724020</td>\n",
       "      <td>viktor</td>\n",
       "      <td>0</td>\n",
       "      <td>0</td>\n",
       "      <td>0.2650</td>\n",
       "      <td>-0.7814</td>\n",
       "      <td>-0.0076</td>\n",
       "      <td>-0.0590</td>\n",
       "      <td>0.0325</td>\n",
       "      <td>-2.9296</td>\n",
       "    </tr>\n",
       "    <tr>\n",
       "      <th>1</th>\n",
       "      <td>2017-6-30</td>\n",
       "      <td>13:51:16:246945023</td>\n",
       "      <td>viktor</td>\n",
       "      <td>0</td>\n",
       "      <td>0</td>\n",
       "      <td>0.6722</td>\n",
       "      <td>-1.1233</td>\n",
       "      <td>-0.2344</td>\n",
       "      <td>-0.1757</td>\n",
       "      <td>0.0208</td>\n",
       "      <td>0.1269</td>\n",
       "    </tr>\n",
       "    <tr>\n",
       "      <th>2</th>\n",
       "      <td>2017-6-30</td>\n",
       "      <td>13:51:16:446233987</td>\n",
       "      <td>viktor</td>\n",
       "      <td>0</td>\n",
       "      <td>0</td>\n",
       "      <td>0.4399</td>\n",
       "      <td>-1.4817</td>\n",
       "      <td>0.0722</td>\n",
       "      <td>-0.9105</td>\n",
       "      <td>0.1063</td>\n",
       "      <td>-2.4367</td>\n",
       "    </tr>\n",
       "    <tr>\n",
       "      <th>3</th>\n",
       "      <td>2017-6-30</td>\n",
       "      <td>13:51:16:646117985</td>\n",
       "      <td>viktor</td>\n",
       "      <td>0</td>\n",
       "      <td>0</td>\n",
       "      <td>0.3031</td>\n",
       "      <td>-0.8125</td>\n",
       "      <td>0.0888</td>\n",
       "      <td>0.1199</td>\n",
       "      <td>-0.4099</td>\n",
       "      <td>-2.9336</td>\n",
       "    </tr>\n",
       "    <tr>\n",
       "      <th>4</th>\n",
       "      <td>2017-6-30</td>\n",
       "      <td>13:51:16:846738994</td>\n",
       "      <td>viktor</td>\n",
       "      <td>0</td>\n",
       "      <td>0</td>\n",
       "      <td>0.4814</td>\n",
       "      <td>-0.9312</td>\n",
       "      <td>0.0359</td>\n",
       "      <td>0.0527</td>\n",
       "      <td>0.4379</td>\n",
       "      <td>2.4922</td>\n",
       "    </tr>\n",
       "  </tbody>\n",
       "</table>\n",
       "</div>"
      ],
      "text/plain": [
       "        date                time username  wrist  activity  acceleration_x  \\\n",
       "0  2017-6-30  13:51:15:847724020   viktor      0         0          0.2650   \n",
       "1  2017-6-30  13:51:16:246945023   viktor      0         0          0.6722   \n",
       "2  2017-6-30  13:51:16:446233987   viktor      0         0          0.4399   \n",
       "3  2017-6-30  13:51:16:646117985   viktor      0         0          0.3031   \n",
       "4  2017-6-30  13:51:16:846738994   viktor      0         0          0.4814   \n",
       "\n",
       "   acceleration_y  acceleration_z  gyro_x  gyro_y  gyro_z  \n",
       "0         -0.7814         -0.0076 -0.0590  0.0325 -2.9296  \n",
       "1         -1.1233         -0.2344 -0.1757  0.0208  0.1269  \n",
       "2         -1.4817          0.0722 -0.9105  0.1063 -2.4367  \n",
       "3         -0.8125          0.0888  0.1199 -0.4099 -2.9336  \n",
       "4         -0.9312          0.0359  0.0527  0.4379  2.4922  "
      ]
     },
     "execution_count": 3,
     "metadata": {},
     "output_type": "execute_result"
    }
   ],
   "source": [
    "#df = pd.read_csv(\"../input/run-or-walk/dataset.csv\", index_col='date', parse_dates=True)\n",
    "df = pd.read_csv(\"dataset.csv\")\n",
    "\n",
    "df.head()"
   ]
  },
  {
   "cell_type": "code",
   "execution_count": 4,
   "id": "7d827a8b",
   "metadata": {
    "execution": {
     "iopub.execute_input": "2021-07-26T02:38:53.976591Z",
     "iopub.status.busy": "2021-07-26T02:38:53.975921Z",
     "iopub.status.idle": "2021-07-26T02:38:54.025979Z",
     "shell.execute_reply": "2021-07-26T02:38:54.025015Z",
     "shell.execute_reply.started": "2021-07-26T02:33:50.564430Z"
    },
    "papermill": {
     "duration": 0.097693,
     "end_time": "2021-07-26T02:38:54.026185",
     "exception": false,
     "start_time": "2021-07-26T02:38:53.928492",
     "status": "completed"
    },
    "tags": []
   },
   "outputs": [
    {
     "name": "stdout",
     "output_type": "stream",
     "text": [
      "<class 'pandas.core.frame.DataFrame'>\n",
      "RangeIndex: 88588 entries, 0 to 88587\n",
      "Data columns (total 11 columns):\n",
      " #   Column          Non-Null Count  Dtype  \n",
      "---  ------          --------------  -----  \n",
      " 0   date            88588 non-null  object \n",
      " 1   time            88588 non-null  object \n",
      " 2   username        88588 non-null  object \n",
      " 3   wrist           88588 non-null  int64  \n",
      " 4   activity        88588 non-null  int64  \n",
      " 5   acceleration_x  88588 non-null  float64\n",
      " 6   acceleration_y  88588 non-null  float64\n",
      " 7   acceleration_z  88588 non-null  float64\n",
      " 8   gyro_x          88588 non-null  float64\n",
      " 9   gyro_y          88588 non-null  float64\n",
      " 10  gyro_z          88588 non-null  float64\n",
      "dtypes: float64(6), int64(2), object(3)\n",
      "memory usage: 7.4+ MB\n"
     ]
    }
   ],
   "source": [
    "df.info()"
   ]
  },
  {
   "cell_type": "code",
   "execution_count": 5,
   "id": "3a15172e",
   "metadata": {
    "execution": {
     "iopub.execute_input": "2021-07-26T02:38:54.117768Z",
     "iopub.status.busy": "2021-07-26T02:38:54.117086Z",
     "iopub.status.idle": "2021-07-26T02:38:54.119982Z",
     "shell.execute_reply": "2021-07-26T02:38:54.120459Z",
     "shell.execute_reply.started": "2021-07-26T02:33:50.625038Z"
    },
    "papermill": {
     "duration": 0.052049,
     "end_time": "2021-07-26T02:38:54.120634",
     "exception": false,
     "start_time": "2021-07-26T02:38:54.068585",
     "status": "completed"
    },
    "tags": []
   },
   "outputs": [
    {
     "data": {
      "text/plain": [
       "Index(['date', 'time', 'username', 'wrist', 'activity', 'acceleration_x',\n",
       "       'acceleration_y', 'acceleration_z', 'gyro_x', 'gyro_y', 'gyro_z'],\n",
       "      dtype='object')"
      ]
     },
     "execution_count": 5,
     "metadata": {},
     "output_type": "execute_result"
    }
   ],
   "source": [
    "df.columns"
   ]
  },
  {
   "cell_type": "code",
   "execution_count": 6,
   "id": "a9b98743",
   "metadata": {
    "execution": {
     "iopub.execute_input": "2021-07-26T02:38:54.207772Z",
     "iopub.status.busy": "2021-07-26T02:38:54.207136Z",
     "iopub.status.idle": "2021-07-26T02:38:54.213613Z",
     "shell.execute_reply": "2021-07-26T02:38:54.214147Z",
     "shell.execute_reply.started": "2021-07-26T02:33:50.639718Z"
    },
    "papermill": {
     "duration": 0.051554,
     "end_time": "2021-07-26T02:38:54.214312",
     "exception": false,
     "start_time": "2021-07-26T02:38:54.162758",
     "status": "completed"
    },
    "tags": []
   },
   "outputs": [
    {
     "data": {
      "text/plain": [
       "date               object\n",
       "time               object\n",
       "username           object\n",
       "wrist               int64\n",
       "activity            int64\n",
       "acceleration_x    float64\n",
       "acceleration_y    float64\n",
       "acceleration_z    float64\n",
       "gyro_x            float64\n",
       "gyro_y            float64\n",
       "gyro_z            float64\n",
       "dtype: object"
      ]
     },
     "execution_count": 6,
     "metadata": {},
     "output_type": "execute_result"
    }
   ],
   "source": [
    "df.dtypes"
   ]
  },
  {
   "cell_type": "code",
   "execution_count": 7,
   "id": "7b95900c",
   "metadata": {
    "execution": {
     "iopub.execute_input": "2021-07-26T02:38:54.301717Z",
     "iopub.status.busy": "2021-07-26T02:38:54.301073Z",
     "iopub.status.idle": "2021-07-26T02:38:54.336202Z",
     "shell.execute_reply": "2021-07-26T02:38:54.335647Z",
     "shell.execute_reply.started": "2021-07-26T02:33:50.654447Z"
    },
    "papermill": {
     "duration": 0.080148,
     "end_time": "2021-07-26T02:38:54.336350",
     "exception": false,
     "start_time": "2021-07-26T02:38:54.256202",
     "status": "completed"
    },
    "tags": []
   },
   "outputs": [
    {
     "data": {
      "text/plain": [
       "date              False\n",
       "time              False\n",
       "username          False\n",
       "wrist             False\n",
       "activity          False\n",
       "acceleration_x    False\n",
       "acceleration_y    False\n",
       "acceleration_z    False\n",
       "gyro_x            False\n",
       "gyro_y            False\n",
       "gyro_z            False\n",
       "dtype: bool"
      ]
     },
     "execution_count": 7,
     "metadata": {},
     "output_type": "execute_result"
    }
   ],
   "source": [
    "df.isna().any()"
   ]
  },
  {
   "cell_type": "code",
   "execution_count": 8,
   "id": "bd455a27",
   "metadata": {
    "execution": {
     "iopub.execute_input": "2021-07-26T02:38:54.595523Z",
     "iopub.status.busy": "2021-07-26T02:38:54.594875Z",
     "iopub.status.idle": "2021-07-26T02:38:54.630026Z",
     "shell.execute_reply": "2021-07-26T02:38:54.629474Z",
     "shell.execute_reply.started": "2021-07-26T02:33:50.699907Z"
    },
    "papermill": {
     "duration": 0.251446,
     "end_time": "2021-07-26T02:38:54.630165",
     "exception": false,
     "start_time": "2021-07-26T02:38:54.378719",
     "status": "completed"
    },
    "tags": []
   },
   "outputs": [
    {
     "name": "stdout",
     "output_type": "stream",
     "text": [
      "0\n"
     ]
    }
   ],
   "source": [
    "null_data = df[df.isnull().any(axis=1)]\n",
    "print(len(null_data))"
   ]
  },
  {
   "cell_type": "code",
   "execution_count": 9,
   "id": "8f2128be",
   "metadata": {
    "execution": {
     "iopub.execute_input": "2021-07-26T02:38:54.722151Z",
     "iopub.status.busy": "2021-07-26T02:38:54.721189Z",
     "iopub.status.idle": "2021-07-26T02:38:54.727596Z",
     "shell.execute_reply": "2021-07-26T02:38:54.727006Z",
     "shell.execute_reply.started": "2021-07-26T02:33:50.737768Z"
    },
    "papermill": {
     "duration": 0.054822,
     "end_time": "2021-07-26T02:38:54.727753",
     "exception": false,
     "start_time": "2021-07-26T02:38:54.672931",
     "status": "completed"
    },
    "tags": []
   },
   "outputs": [
    {
     "data": {
      "text/plain": [
       "array([0, 1], dtype=int64)"
      ]
     },
     "execution_count": 9,
     "metadata": {},
     "output_type": "execute_result"
    }
   ],
   "source": [
    "df['activity'].unique()"
   ]
  },
  {
   "cell_type": "code",
   "execution_count": 10,
   "id": "2bb92cda",
   "metadata": {
    "execution": {
     "iopub.execute_input": "2021-07-26T02:38:54.822316Z",
     "iopub.status.busy": "2021-07-26T02:38:54.821223Z",
     "iopub.status.idle": "2021-07-26T02:38:54.841129Z",
     "shell.execute_reply": "2021-07-26T02:38:54.841973Z",
     "shell.execute_reply.started": "2021-07-26T02:33:50.752378Z"
    },
    "papermill": {
     "duration": 0.069905,
     "end_time": "2021-07-26T02:38:54.842201",
     "exception": false,
     "start_time": "2021-07-26T02:38:54.772296",
     "status": "completed"
    },
    "tags": []
   },
   "outputs": [
    {
     "name": "stdout",
     "output_type": "stream",
     "text": [
      "Walking activity: 44223\n",
      "Running activity: 44365\n"
     ]
    }
   ],
   "source": [
    "print(\"Walking activity:\", (df['activity'] == 0).sum(axis=0))\n",
    "print(\"Running activity:\", (df['activity'] == 1).sum(axis=0))"
   ]
  },
  {
   "cell_type": "code",
   "execution_count": 11,
   "id": "27292bd7",
   "metadata": {
    "execution": {
     "iopub.execute_input": "2021-07-26T02:38:54.933251Z",
     "iopub.status.busy": "2021-07-26T02:38:54.932576Z",
     "iopub.status.idle": "2021-07-26T02:38:56.224024Z",
     "shell.execute_reply": "2021-07-26T02:38:56.224557Z",
     "shell.execute_reply.started": "2021-07-26T02:33:50.763300Z"
    },
    "papermill": {
     "duration": 1.338061,
     "end_time": "2021-07-26T02:38:56.224772",
     "exception": false,
     "start_time": "2021-07-26T02:38:54.886711",
     "status": "completed"
    },
    "tags": []
   },
   "outputs": [],
   "source": [
    "cols = ['date', 'time']\n",
    "df['combined'] = df[cols].apply(lambda row: ' '.join(row.values.astype(str)), axis=1)\n",
    "df2 = df.drop(['username', 'date', 'time', 'wrist'], axis = 1)"
   ]
  },
  {
   "cell_type": "code",
   "execution_count": 12,
   "id": "6de4378c",
   "metadata": {
    "execution": {
     "iopub.execute_input": "2021-07-26T02:38:56.854608Z",
     "iopub.status.busy": "2021-07-26T02:38:56.853588Z",
     "iopub.status.idle": "2021-07-26T02:38:56.881157Z",
     "shell.execute_reply": "2021-07-26T02:38:56.880614Z",
     "shell.execute_reply.started": "2021-07-26T02:33:52.112405Z"
    },
    "papermill": {
     "duration": 0.612431,
     "end_time": "2021-07-26T02:38:56.881292",
     "exception": false,
     "start_time": "2021-07-26T02:38:56.268861",
     "status": "completed"
    },
    "tags": []
   },
   "outputs": [
    {
     "data": {
      "text/html": [
       "<div>\n",
       "<style scoped>\n",
       "    .dataframe tbody tr th:only-of-type {\n",
       "        vertical-align: middle;\n",
       "    }\n",
       "\n",
       "    .dataframe tbody tr th {\n",
       "        vertical-align: top;\n",
       "    }\n",
       "\n",
       "    .dataframe thead th {\n",
       "        text-align: right;\n",
       "    }\n",
       "</style>\n",
       "<table border=\"1\" class=\"dataframe\">\n",
       "  <thead>\n",
       "    <tr style=\"text-align: right;\">\n",
       "      <th></th>\n",
       "      <th>activity</th>\n",
       "      <th>acceleration_x</th>\n",
       "      <th>acceleration_y</th>\n",
       "      <th>acceleration_z</th>\n",
       "      <th>gyro_x</th>\n",
       "      <th>gyro_y</th>\n",
       "      <th>gyro_z</th>\n",
       "      <th>datetime</th>\n",
       "    </tr>\n",
       "  </thead>\n",
       "  <tbody>\n",
       "    <tr>\n",
       "      <th>0</th>\n",
       "      <td>0</td>\n",
       "      <td>0.2650</td>\n",
       "      <td>-0.7814</td>\n",
       "      <td>-0.0076</td>\n",
       "      <td>-0.0590</td>\n",
       "      <td>0.0325</td>\n",
       "      <td>-2.9296</td>\n",
       "      <td>2017-06-30 13:51:15.847724020</td>\n",
       "    </tr>\n",
       "    <tr>\n",
       "      <th>1</th>\n",
       "      <td>0</td>\n",
       "      <td>0.6722</td>\n",
       "      <td>-1.1233</td>\n",
       "      <td>-0.2344</td>\n",
       "      <td>-0.1757</td>\n",
       "      <td>0.0208</td>\n",
       "      <td>0.1269</td>\n",
       "      <td>2017-06-30 13:51:16.246945023</td>\n",
       "    </tr>\n",
       "    <tr>\n",
       "      <th>2</th>\n",
       "      <td>0</td>\n",
       "      <td>0.4399</td>\n",
       "      <td>-1.4817</td>\n",
       "      <td>0.0722</td>\n",
       "      <td>-0.9105</td>\n",
       "      <td>0.1063</td>\n",
       "      <td>-2.4367</td>\n",
       "      <td>2017-06-30 13:51:16.446233987</td>\n",
       "    </tr>\n",
       "    <tr>\n",
       "      <th>3</th>\n",
       "      <td>0</td>\n",
       "      <td>0.3031</td>\n",
       "      <td>-0.8125</td>\n",
       "      <td>0.0888</td>\n",
       "      <td>0.1199</td>\n",
       "      <td>-0.4099</td>\n",
       "      <td>-2.9336</td>\n",
       "      <td>2017-06-30 13:51:16.646117985</td>\n",
       "    </tr>\n",
       "    <tr>\n",
       "      <th>4</th>\n",
       "      <td>0</td>\n",
       "      <td>0.4814</td>\n",
       "      <td>-0.9312</td>\n",
       "      <td>0.0359</td>\n",
       "      <td>0.0527</td>\n",
       "      <td>0.4379</td>\n",
       "      <td>2.4922</td>\n",
       "      <td>2017-06-30 13:51:16.846738994</td>\n",
       "    </tr>\n",
       "    <tr>\n",
       "      <th>...</th>\n",
       "      <td>...</td>\n",
       "      <td>...</td>\n",
       "      <td>...</td>\n",
       "      <td>...</td>\n",
       "      <td>...</td>\n",
       "      <td>...</td>\n",
       "      <td>...</td>\n",
       "      <td>...</td>\n",
       "    </tr>\n",
       "    <tr>\n",
       "      <th>88583</th>\n",
       "      <td>0</td>\n",
       "      <td>0.3084</td>\n",
       "      <td>-0.8376</td>\n",
       "      <td>-0.1327</td>\n",
       "      <td>0.4823</td>\n",
       "      <td>2.0124</td>\n",
       "      <td>0.6048</td>\n",
       "      <td>2017-07-09 20:09:15.317911028</td>\n",
       "    </tr>\n",
       "    <tr>\n",
       "      <th>88584</th>\n",
       "      <td>0</td>\n",
       "      <td>0.4977</td>\n",
       "      <td>-1.0027</td>\n",
       "      <td>-0.4397</td>\n",
       "      <td>0.1022</td>\n",
       "      <td>-1.2565</td>\n",
       "      <td>-0.0761</td>\n",
       "      <td>2017-07-09 20:09:15.517889022</td>\n",
       "    </tr>\n",
       "    <tr>\n",
       "      <th>88585</th>\n",
       "      <td>0</td>\n",
       "      <td>0.4587</td>\n",
       "      <td>-1.1780</td>\n",
       "      <td>-0.2827</td>\n",
       "      <td>-1.4500</td>\n",
       "      <td>-0.2792</td>\n",
       "      <td>-1.2616</td>\n",
       "      <td>2017-07-09 20:09:15.717828989</td>\n",
       "    </tr>\n",
       "    <tr>\n",
       "      <th>88586</th>\n",
       "      <td>0</td>\n",
       "      <td>0.2590</td>\n",
       "      <td>-0.8582</td>\n",
       "      <td>-0.0759</td>\n",
       "      <td>-1.5165</td>\n",
       "      <td>0.4560</td>\n",
       "      <td>-1.7755</td>\n",
       "      <td>2017-07-09 20:09:15.917932987</td>\n",
       "    </tr>\n",
       "    <tr>\n",
       "      <th>88587</th>\n",
       "      <td>0</td>\n",
       "      <td>0.3140</td>\n",
       "      <td>-0.8008</td>\n",
       "      <td>-0.0911</td>\n",
       "      <td>0.1183</td>\n",
       "      <td>1.0850</td>\n",
       "      <td>1.2814</td>\n",
       "      <td>2017-07-09 20:09:16.117410004</td>\n",
       "    </tr>\n",
       "  </tbody>\n",
       "</table>\n",
       "<p>88588 rows × 8 columns</p>\n",
       "</div>"
      ],
      "text/plain": [
       "       activity  acceleration_x  acceleration_y  acceleration_z  gyro_x  \\\n",
       "0             0          0.2650         -0.7814         -0.0076 -0.0590   \n",
       "1             0          0.6722         -1.1233         -0.2344 -0.1757   \n",
       "2             0          0.4399         -1.4817          0.0722 -0.9105   \n",
       "3             0          0.3031         -0.8125          0.0888  0.1199   \n",
       "4             0          0.4814         -0.9312          0.0359  0.0527   \n",
       "...         ...             ...             ...             ...     ...   \n",
       "88583         0          0.3084         -0.8376         -0.1327  0.4823   \n",
       "88584         0          0.4977         -1.0027         -0.4397  0.1022   \n",
       "88585         0          0.4587         -1.1780         -0.2827 -1.4500   \n",
       "88586         0          0.2590         -0.8582         -0.0759 -1.5165   \n",
       "88587         0          0.3140         -0.8008         -0.0911  0.1183   \n",
       "\n",
       "       gyro_y  gyro_z                      datetime  \n",
       "0      0.0325 -2.9296 2017-06-30 13:51:15.847724020  \n",
       "1      0.0208  0.1269 2017-06-30 13:51:16.246945023  \n",
       "2      0.1063 -2.4367 2017-06-30 13:51:16.446233987  \n",
       "3     -0.4099 -2.9336 2017-06-30 13:51:16.646117985  \n",
       "4      0.4379  2.4922 2017-06-30 13:51:16.846738994  \n",
       "...       ...     ...                           ...  \n",
       "88583  2.0124  0.6048 2017-07-09 20:09:15.317911028  \n",
       "88584 -1.2565 -0.0761 2017-07-09 20:09:15.517889022  \n",
       "88585 -0.2792 -1.2616 2017-07-09 20:09:15.717828989  \n",
       "88586  0.4560 -1.7755 2017-07-09 20:09:15.917932987  \n",
       "88587  1.0850  1.2814 2017-07-09 20:09:16.117410004  \n",
       "\n",
       "[88588 rows x 8 columns]"
      ]
     },
     "execution_count": 12,
     "metadata": {},
     "output_type": "execute_result"
    }
   ],
   "source": [
    "#df['datetime'] =  pd.to_datetime(df['time'], format='%d%b%Y:%H:%M:%S.%f')\n",
    "df2['datetime'] =  pd.to_datetime(df2['combined'], format='%Y-%m-%d %H:%M:%S:%f')\n",
    "df3 = df2.drop('combined', axis = 1)\n",
    "df3"
   ]
  },
  {
   "cell_type": "markdown",
   "id": "fe963243",
   "metadata": {
    "papermill": {
     "duration": 0.04503,
     "end_time": "2021-07-26T02:38:56.970762",
     "exception": false,
     "start_time": "2021-07-26T02:38:56.925732",
     "status": "completed"
    },
    "tags": []
   },
   "source": [
    "Can we plot the activity per day, for example the counts of 1 in a day and plot the counts as Y and days as X."
   ]
  },
  {
   "cell_type": "code",
   "execution_count": 13,
   "id": "a2ebe838",
   "metadata": {
    "execution": {
     "iopub.execute_input": "2021-07-26T02:38:57.065435Z",
     "iopub.status.busy": "2021-07-26T02:38:57.064303Z",
     "iopub.status.idle": "2021-07-26T02:38:57.082909Z",
     "shell.execute_reply": "2021-07-26T02:38:57.083451Z",
     "shell.execute_reply.started": "2021-07-26T02:33:52.687091Z"
    },
    "papermill": {
     "duration": 0.068492,
     "end_time": "2021-07-26T02:38:57.083630",
     "exception": false,
     "start_time": "2021-07-26T02:38:57.015138",
     "status": "completed"
    },
    "tags": []
   },
   "outputs": [],
   "source": [
    "df_sorted = df3.sort_values('datetime').reset_index(drop=True)"
   ]
  },
  {
   "cell_type": "code",
   "execution_count": 14,
   "id": "9f2ff8e8",
   "metadata": {
    "execution": {
     "iopub.execute_input": "2021-07-26T02:38:57.177094Z",
     "iopub.status.busy": "2021-07-26T02:38:57.176053Z",
     "iopub.status.idle": "2021-07-26T02:38:57.921193Z",
     "shell.execute_reply": "2021-07-26T02:38:57.920424Z",
     "shell.execute_reply.started": "2021-07-26T02:33:52.704160Z"
    },
    "papermill": {
     "duration": 0.793033,
     "end_time": "2021-07-26T02:38:57.921392",
     "exception": false,
     "start_time": "2021-07-26T02:38:57.128359",
     "status": "completed"
    },
    "tags": []
   },
   "outputs": [
    {
     "name": "stdout",
     "output_type": "stream",
     "text": [
      "Total day Samples: 3933\n",
      "Running samples: 3504\n"
     ]
    }
   ],
   "source": [
    "choice = \"2017-07-02\"\n",
    "x_day = df_sorted[df_sorted['datetime'].dt.strftime('%Y-%m-%d') == choice]\n",
    "print(\"Total day Samples:\", len(x_day))\n",
    "print(\"Running samples:\", len(x_day.loc[(x_day['activity'] == 1)]))\n"
   ]
  },
  {
   "cell_type": "code",
   "execution_count": 15,
   "id": "0ca5b6de",
   "metadata": {
    "execution": {
     "iopub.execute_input": "2021-07-26T02:38:58.021799Z",
     "iopub.status.busy": "2021-07-26T02:38:58.020645Z",
     "iopub.status.idle": "2021-07-26T02:38:58.514749Z",
     "shell.execute_reply": "2021-07-26T02:38:58.514222Z",
     "shell.execute_reply.started": "2021-07-26T02:33:53.411297Z"
    },
    "papermill": {
     "duration": 0.547509,
     "end_time": "2021-07-26T02:38:58.514896",
     "exception": false,
     "start_time": "2021-07-26T02:38:57.967387",
     "status": "completed"
    },
    "tags": []
   },
   "outputs": [
    {
     "data": {
      "image/png": "[encoded data removed]",
      "text/plain": [
       "<Figure size 1152x288 with 1 Axes>"
      ]
     },
     "metadata": {
      "needs_background": "light"
     },
     "output_type": "display_data"
    }
   ],
   "source": [
    "my_figsize = (16, 4)\n",
    "plt.figure(figsize=my_figsize)\n",
    "\n",
    "sns.lineplot(x=\"datetime\", y=\"acceleration_y\", data=x_day)\n",
    "#sns.lineplot(x=\"datetime\", y=\"acceleration_y\", data=df_sorted)\n",
    "\n",
    "#plt.title('accelerometer')\n",
    "plt.show()"
   ]
  },
  {
   "cell_type": "code",
   "execution_count": 16,
   "id": "21bc1a38",
   "metadata": {
    "execution": {
     "iopub.execute_input": "2021-07-26T02:38:58.634892Z",
     "iopub.status.busy": "2021-07-26T02:38:58.633901Z",
     "iopub.status.idle": "2021-07-26T02:38:58.637958Z",
     "shell.execute_reply": "2021-07-26T02:38:58.638409Z",
     "shell.execute_reply.started": "2021-07-26T02:33:53.918342Z"
    },
    "papermill": {
     "duration": 0.067036,
     "end_time": "2021-07-26T02:38:58.638583",
     "exception": false,
     "start_time": "2021-07-26T02:38:58.571547",
     "status": "completed"
    },
    "tags": []
   },
   "outputs": [
    {
     "data": {
      "text/html": [
       "<div>\n",
       "<style scoped>\n",
       "    .dataframe tbody tr th:only-of-type {\n",
       "        vertical-align: middle;\n",
       "    }\n",
       "\n",
       "    .dataframe tbody tr th {\n",
       "        vertical-align: top;\n",
       "    }\n",
       "\n",
       "    .dataframe thead th {\n",
       "        text-align: right;\n",
       "    }\n",
       "</style>\n",
       "<table border=\"1\" class=\"dataframe\">\n",
       "  <thead>\n",
       "    <tr style=\"text-align: right;\">\n",
       "      <th></th>\n",
       "      <th>activity</th>\n",
       "      <th>acceleration_x</th>\n",
       "      <th>acceleration_y</th>\n",
       "      <th>acceleration_z</th>\n",
       "      <th>gyro_x</th>\n",
       "      <th>gyro_y</th>\n",
       "      <th>gyro_z</th>\n",
       "      <th>datetime</th>\n",
       "    </tr>\n",
       "  </thead>\n",
       "  <tbody>\n",
       "    <tr>\n",
       "      <th>0</th>\n",
       "      <td>0</td>\n",
       "      <td>0.2650</td>\n",
       "      <td>-0.7814</td>\n",
       "      <td>-0.0076</td>\n",
       "      <td>-0.0590</td>\n",
       "      <td>0.0325</td>\n",
       "      <td>-2.9296</td>\n",
       "      <td>2017-06-30 13:51:15.847724020</td>\n",
       "    </tr>\n",
       "    <tr>\n",
       "      <th>88587</th>\n",
       "      <td>1</td>\n",
       "      <td>-2.1825</td>\n",
       "      <td>0.1876</td>\n",
       "      <td>0.0430</td>\n",
       "      <td>-2.2937</td>\n",
       "      <td>-0.6059</td>\n",
       "      <td>-0.6293</td>\n",
       "      <td>2017-07-17 20:16:03.851119750</td>\n",
       "    </tr>\n",
       "  </tbody>\n",
       "</table>\n",
       "</div>"
      ],
      "text/plain": [
       "       activity  acceleration_x  acceleration_y  acceleration_z  gyro_x  \\\n",
       "0             0          0.2650         -0.7814         -0.0076 -0.0590   \n",
       "88587         1         -2.1825          0.1876          0.0430 -2.2937   \n",
       "\n",
       "       gyro_y  gyro_z                      datetime  \n",
       "0      0.0325 -2.9296 2017-06-30 13:51:15.847724020  \n",
       "88587 -0.6059 -0.6293 2017-07-17 20:16:03.851119750  "
      ]
     },
     "execution_count": 16,
     "metadata": {},
     "output_type": "execute_result"
    }
   ],
   "source": [
    "pd.concat([df_sorted.head(1), df_sorted.tail(1)])"
   ]
  },
  {
   "cell_type": "markdown",
   "id": "bc130bc6",
   "metadata": {
    "papermill": {
     "duration": 0.046899,
     "end_time": "2021-07-26T02:38:58.733035",
     "exception": false,
     "start_time": "2021-07-26T02:38:58.686136",
     "status": "completed"
    },
    "tags": []
   },
   "source": [
    "need to plot samples per hour in a single day"
   ]
  },
  {
   "cell_type": "code",
   "execution_count": 17,
   "id": "e7e8535c",
   "metadata": {
    "execution": {
     "iopub.execute_input": "2021-07-26T02:38:58.852573Z",
     "iopub.status.busy": "2021-07-26T02:38:58.851807Z",
     "iopub.status.idle": "2021-07-26T02:38:58.857855Z",
     "shell.execute_reply": "2021-07-26T02:38:58.857073Z",
     "shell.execute_reply.started": "2021-07-26T02:33:53.940647Z"
    },
    "papermill": {
     "duration": 0.077617,
     "end_time": "2021-07-26T02:38:58.858049",
     "exception": false,
     "start_time": "2021-07-26T02:38:58.780432",
     "status": "completed"
    },
    "tags": []
   },
   "outputs": [
    {
     "data": {
      "text/html": [
       "<div>\n",
       "<style scoped>\n",
       "    .dataframe tbody tr th:only-of-type {\n",
       "        vertical-align: middle;\n",
       "    }\n",
       "\n",
       "    .dataframe tbody tr th {\n",
       "        vertical-align: top;\n",
       "    }\n",
       "\n",
       "    .dataframe thead th {\n",
       "        text-align: right;\n",
       "    }\n",
       "</style>\n",
       "<table border=\"1\" class=\"dataframe\">\n",
       "  <thead>\n",
       "    <tr style=\"text-align: right;\">\n",
       "      <th></th>\n",
       "      <th>acceleration_x</th>\n",
       "      <th>acceleration_y</th>\n",
       "      <th>acceleration_z</th>\n",
       "      <th>gyro_x</th>\n",
       "      <th>gyro_y</th>\n",
       "      <th>gyro_z</th>\n",
       "    </tr>\n",
       "  </thead>\n",
       "  <tbody>\n",
       "    <tr>\n",
       "      <th>0</th>\n",
       "      <td>0.2650</td>\n",
       "      <td>-0.7814</td>\n",
       "      <td>-0.0076</td>\n",
       "      <td>-0.0590</td>\n",
       "      <td>0.0325</td>\n",
       "      <td>-2.9296</td>\n",
       "    </tr>\n",
       "    <tr>\n",
       "      <th>1</th>\n",
       "      <td>0.6722</td>\n",
       "      <td>-1.1233</td>\n",
       "      <td>-0.2344</td>\n",
       "      <td>-0.1757</td>\n",
       "      <td>0.0208</td>\n",
       "      <td>0.1269</td>\n",
       "    </tr>\n",
       "    <tr>\n",
       "      <th>2</th>\n",
       "      <td>0.4399</td>\n",
       "      <td>-1.4817</td>\n",
       "      <td>0.0722</td>\n",
       "      <td>-0.9105</td>\n",
       "      <td>0.1063</td>\n",
       "      <td>-2.4367</td>\n",
       "    </tr>\n",
       "    <tr>\n",
       "      <th>3</th>\n",
       "      <td>0.3031</td>\n",
       "      <td>-0.8125</td>\n",
       "      <td>0.0888</td>\n",
       "      <td>0.1199</td>\n",
       "      <td>-0.4099</td>\n",
       "      <td>-2.9336</td>\n",
       "    </tr>\n",
       "    <tr>\n",
       "      <th>4</th>\n",
       "      <td>0.4814</td>\n",
       "      <td>-0.9312</td>\n",
       "      <td>0.0359</td>\n",
       "      <td>0.0527</td>\n",
       "      <td>0.4379</td>\n",
       "      <td>2.4922</td>\n",
       "    </tr>\n",
       "    <tr>\n",
       "      <th>...</th>\n",
       "      <td>...</td>\n",
       "      <td>...</td>\n",
       "      <td>...</td>\n",
       "      <td>...</td>\n",
       "      <td>...</td>\n",
       "      <td>...</td>\n",
       "    </tr>\n",
       "    <tr>\n",
       "      <th>88583</th>\n",
       "      <td>-0.3145</td>\n",
       "      <td>-0.5619</td>\n",
       "      <td>0.2554</td>\n",
       "      <td>-1.4393</td>\n",
       "      <td>0.1370</td>\n",
       "      <td>-1.5961</td>\n",
       "    </tr>\n",
       "    <tr>\n",
       "      <th>88584</th>\n",
       "      <td>0.2041</td>\n",
       "      <td>0.4117</td>\n",
       "      <td>-0.1134</td>\n",
       "      <td>0.8280</td>\n",
       "      <td>0.8089</td>\n",
       "      <td>1.9331</td>\n",
       "    </tr>\n",
       "    <tr>\n",
       "      <th>88585</th>\n",
       "      <td>-2.9406</td>\n",
       "      <td>0.4090</td>\n",
       "      <td>0.0523</td>\n",
       "      <td>2.2648</td>\n",
       "      <td>0.2342</td>\n",
       "      <td>3.7748</td>\n",
       "    </tr>\n",
       "    <tr>\n",
       "      <th>88586</th>\n",
       "      <td>-0.0219</td>\n",
       "      <td>-0.5711</td>\n",
       "      <td>0.1658</td>\n",
       "      <td>0.2210</td>\n",
       "      <td>-1.5538</td>\n",
       "      <td>0.6392</td>\n",
       "    </tr>\n",
       "    <tr>\n",
       "      <th>88587</th>\n",
       "      <td>-2.1825</td>\n",
       "      <td>0.1876</td>\n",
       "      <td>0.0430</td>\n",
       "      <td>-2.2937</td>\n",
       "      <td>-0.6059</td>\n",
       "      <td>-0.6293</td>\n",
       "    </tr>\n",
       "  </tbody>\n",
       "</table>\n",
       "<p>88588 rows × 6 columns</p>\n",
       "</div>"
      ],
      "text/plain": [
       "       acceleration_x  acceleration_y  acceleration_z  gyro_x  gyro_y  gyro_z\n",
       "0              0.2650         -0.7814         -0.0076 -0.0590  0.0325 -2.9296\n",
       "1              0.6722         -1.1233         -0.2344 -0.1757  0.0208  0.1269\n",
       "2              0.4399         -1.4817          0.0722 -0.9105  0.1063 -2.4367\n",
       "3              0.3031         -0.8125          0.0888  0.1199 -0.4099 -2.9336\n",
       "4              0.4814         -0.9312          0.0359  0.0527  0.4379  2.4922\n",
       "...               ...             ...             ...     ...     ...     ...\n",
       "88583         -0.3145         -0.5619          0.2554 -1.4393  0.1370 -1.5961\n",
       "88584          0.2041          0.4117         -0.1134  0.8280  0.8089  1.9331\n",
       "88585         -2.9406          0.4090          0.0523  2.2648  0.2342  3.7748\n",
       "88586         -0.0219         -0.5711          0.1658  0.2210 -1.5538  0.6392\n",
       "88587         -2.1825          0.1876          0.0430 -2.2937 -0.6059 -0.6293\n",
       "\n",
       "[88588 rows x 6 columns]"
      ]
     },
     "execution_count": 17,
     "metadata": {},
     "output_type": "execute_result"
    }
   ],
   "source": [
    "X = df_sorted.iloc[:,1:7]\n",
    "X"
   ]
  },
  {
   "cell_type": "markdown",
   "id": "60d64e79",
   "metadata": {
    "papermill": {
     "duration": 0.053426,
     "end_time": "2021-07-26T02:38:58.973117",
     "exception": false,
     "start_time": "2021-07-26T02:38:58.919691",
     "status": "completed"
    },
    "tags": []
   },
   "source": [
    "\n"
   ]
  },
  {
   "cell_type": "code",
   "execution_count": 18,
   "id": "22f9e262",
   "metadata": {
    "execution": {
     "iopub.execute_input": "2021-07-26T02:38:59.075454Z",
     "iopub.status.busy": "2021-07-26T02:38:59.074783Z",
     "iopub.status.idle": "2021-07-26T02:38:59.095341Z",
     "shell.execute_reply": "2021-07-26T02:38:59.094832Z",
     "shell.execute_reply.started": "2021-07-26T02:33:53.976423Z"
    },
    "papermill": {
     "duration": 0.074674,
     "end_time": "2021-07-26T02:38:59.095498",
     "exception": false,
     "start_time": "2021-07-26T02:38:59.020824",
     "status": "completed"
    },
    "tags": []
   },
   "outputs": [
    {
     "data": {
      "text/plain": [
       "array([[ 0.33668266, -0.33231618,  0.6293112 , -0.05039065, -0.00392358,\n",
       "        -1.5419494 ],\n",
       "       [ 0.74013342, -0.85156246,  0.16342314, -0.14349622, -0.013684  ,\n",
       "         0.05462392],\n",
       "       [ 0.50997229, -1.39586742,  0.79323478, -0.72973418,  0.05764218,\n",
       "        -1.28448139],\n",
       "       ...,\n",
       "       [-2.83940227,  1.47555388,  0.7523566 ,  1.80358291,  0.16433948,\n",
       "         1.96011707],\n",
       "       [ 0.05242424, -0.01293187,  0.98550605,  0.17299888, -1.32725368,\n",
       "         0.32222559],\n",
       "       [-2.08828236,  1.13931192,  0.73325272, -1.83327848, -0.53649241,\n",
       "        -0.34037976]])"
      ]
     },
     "execution_count": 18,
     "metadata": {},
     "output_type": "execute_result"
    }
   ],
   "source": [
    "ssc = StandardScaler()\n",
    "X = ssc.fit_transform(X)\n",
    "X"
   ]
  },
  {
   "cell_type": "code",
   "execution_count": 19,
   "id": "671c8399",
   "metadata": {
    "execution": {
     "iopub.execute_input": "2021-07-26T02:38:59.201324Z",
     "iopub.status.busy": "2021-07-26T02:38:59.200453Z",
     "iopub.status.idle": "2021-07-26T02:38:59.204053Z",
     "shell.execute_reply": "2021-07-26T02:38:59.204496Z",
     "shell.execute_reply.started": "2021-07-26T02:33:54.010522Z"
    },
    "papermill": {
     "duration": 0.059383,
     "end_time": "2021-07-26T02:38:59.204693",
     "exception": false,
     "start_time": "2021-07-26T02:38:59.145310",
     "status": "completed"
    },
    "tags": []
   },
   "outputs": [
    {
     "data": {
      "text/plain": [
       "0        0\n",
       "1        0\n",
       "2        0\n",
       "3        0\n",
       "4        0\n",
       "        ..\n",
       "88583    1\n",
       "88584    1\n",
       "88585    1\n",
       "88586    1\n",
       "88587    1\n",
       "Name: activity, Length: 88588, dtype: int64"
      ]
     },
     "execution_count": 19,
     "metadata": {},
     "output_type": "execute_result"
    }
   ],
   "source": [
    "y = df_sorted.activity\n",
    "y"
   ]
  },
  {
   "cell_type": "markdown",
   "id": "9655fd83",
   "metadata": {
    "papermill": {
     "duration": 0.048366,
     "end_time": "2021-07-26T02:38:59.301365",
     "exception": false,
     "start_time": "2021-07-26T02:38:59.252999",
     "status": "completed"
    },
    "tags": []
   },
   "source": [
    "## Test Train split"
   ]
  },
  {
   "cell_type": "code",
   "execution_count": 20,
   "id": "dcbfb1cf",
   "metadata": {
    "execution": {
     "iopub.execute_input": "2021-07-26T02:38:59.406850Z",
     "iopub.status.busy": "2021-07-26T02:38:59.406132Z",
     "iopub.status.idle": "2021-07-26T02:38:59.420630Z",
     "shell.execute_reply": "2021-07-26T02:38:59.420094Z",
     "shell.execute_reply.started": "2021-07-26T02:33:54.019789Z"
    },
    "papermill": {
     "duration": 0.070768,
     "end_time": "2021-07-26T02:38:59.420798",
     "exception": false,
     "start_time": "2021-07-26T02:38:59.350030",
     "status": "completed"
    },
    "tags": []
   },
   "outputs": [],
   "source": [
    "X_train, X_test, y_train, y_test = train_test_split(X,y,test_size=0.25,random_state=10) "
   ]
  },
  {
   "cell_type": "code",
   "execution_count": 21,
   "id": "a8e68738",
   "metadata": {
    "execution": {
     "iopub.execute_input": "2021-07-26T02:38:59.522540Z",
     "iopub.status.busy": "2021-07-26T02:38:59.521838Z",
     "iopub.status.idle": "2021-07-26T02:38:59.529907Z",
     "shell.execute_reply": "2021-07-26T02:38:59.529271Z",
     "shell.execute_reply.started": "2021-07-26T02:33:54.054659Z"
    },
    "papermill": {
     "duration": 0.060793,
     "end_time": "2021-07-26T02:38:59.530055",
     "exception": false,
     "start_time": "2021-07-26T02:38:59.469262",
     "status": "completed"
    },
    "tags": []
   },
   "outputs": [
    {
     "data": {
      "text/plain": [
       "((66441, 6), (66441,))"
      ]
     },
     "execution_count": 21,
     "metadata": {},
     "output_type": "execute_result"
    }
   ],
   "source": [
    "X_train = np.array(X_train)\n",
    "y_train = np.array(y_train)\n",
    "X_train.shape, y_train.shape"
   ]
  },
  {
   "cell_type": "code",
   "execution_count": null,
   "id": "4e06fef6",
   "metadata": {},
   "outputs": [],
   "source": []
  },
  {
   "cell_type": "markdown",
   "id": "b1d42a01",
   "metadata": {
    "papermill": {
     "duration": 0.050388,
     "end_time": "2021-07-26T02:38:59.630954",
     "exception": false,
     "start_time": "2021-07-26T02:38:59.580566",
     "status": "completed"
    },
    "tags": []
   },
   "source": [
    "## Accuracy by Logistic Regression"
   ]
  },
  {
   "cell_type": "code",
   "execution_count": 22,
   "id": "2d40eecc",
   "metadata": {
    "execution": {
     "iopub.execute_input": "2021-07-26T02:38:59.735617Z",
     "iopub.status.busy": "2021-07-26T02:38:59.734928Z",
     "iopub.status.idle": "2021-07-26T02:39:00.016782Z",
     "shell.execute_reply": "2021-07-26T02:39:00.017683Z",
     "shell.execute_reply.started": "2021-07-26T02:33:54.065724Z"
    },
    "papermill": {
     "duration": 0.336332,
     "end_time": "2021-07-26T02:39:00.017961",
     "exception": false,
     "start_time": "2021-07-26T02:38:59.681629",
     "status": "completed"
    },
    "tags": []
   },
   "outputs": [
    {
     "data": {
      "text/plain": [
       "array([1, 1, 1, ..., 1, 0, 0], dtype=int64)"
      ]
     },
     "execution_count": 22,
     "metadata": {},
     "output_type": "execute_result"
    }
   ],
   "source": [
    "logr = LogisticRegression()\n",
    "logr.fit(X_train,y_train)\n",
    "pred_logr = logr.predict(X_test)\n",
    "\n",
    "pred_logr"
   ]
  },
  {
   "cell_type": "code",
   "execution_count": 23,
   "id": "ffdbd450",
   "metadata": {
    "execution": {
     "iopub.execute_input": "2021-07-26T02:39:00.177892Z",
     "iopub.status.busy": "2021-07-26T02:39:00.177230Z",
     "iopub.status.idle": "2021-07-26T02:39:00.182880Z",
     "shell.execute_reply": "2021-07-26T02:39:00.183906Z",
     "shell.execute_reply.started": "2021-07-26T02:33:54.244303Z"
    },
    "papermill": {
     "duration": 0.076557,
     "end_time": "2021-07-26T02:39:00.184218",
     "exception": false,
     "start_time": "2021-07-26T02:39:00.107661",
     "status": "completed"
    },
    "tags": []
   },
   "outputs": [
    {
     "name": "stdout",
     "output_type": "stream",
     "text": [
      "0.8530726509233756\n"
     ]
    }
   ],
   "source": [
    "logr_acc = accuracy_score(y_test,pred_logr)\n",
    "print(logr_acc)"
   ]
  },
  {
   "cell_type": "markdown",
   "id": "c32f6f77",
   "metadata": {
    "papermill": {
     "duration": 0.049548,
     "end_time": "2021-07-26T02:39:00.283903",
     "exception": false,
     "start_time": "2021-07-26T02:39:00.234355",
     "status": "completed"
    },
    "tags": []
   },
   "source": []
  },
  {
   "cell_type": "code",
   "execution_count": 24,
   "id": "c7a8afe2",
   "metadata": {
    "execution": {
     "iopub.execute_input": "2021-07-26T02:39:00.386561Z",
     "iopub.status.busy": "2021-07-26T02:39:00.385919Z",
     "iopub.status.idle": "2021-07-26T02:39:00.735836Z",
     "shell.execute_reply": "2021-07-26T02:39:00.736419Z",
     "shell.execute_reply.started": "2021-07-26T02:33:54.267318Z"
    },
    "papermill": {
     "duration": 0.403087,
     "end_time": "2021-07-26T02:39:00.736601",
     "exception": false,
     "start_time": "2021-07-26T02:39:00.333514",
     "status": "completed"
    },
    "tags": []
   },
   "outputs": [
    {
     "name": "stdout",
     "output_type": "stream",
     "text": [
      "[[9930 1164]\n",
      " [2090 8963]]\n"
     ]
    },
    {
     "data": {
      "text/plain": [
       "<AxesSubplot:>"
      ]
     },
     "execution_count": 24,
     "metadata": {},
     "output_type": "execute_result"
    },
    {
     "data": {
      "image/png": "[encoded data removed]",
      "text/plain": [
       "<Figure size 432x288 with 2 Axes>"
      ]
     },
     "metadata": {
      "needs_background": "light"
     },
     "output_type": "display_data"
    }
   ],
   "source": [
    "print(confusion_matrix(y_test,pred_logr))\n",
    "#print(classification_report(y_test,pred_lr))\n",
    "\n",
    "cm = confusion_matrix(y_test, pred_logr)\n",
    "\n",
    "sns.heatmap(cm, annot=True)"
   ]
  },
  {
   "cell_type": "markdown",
   "id": "7f70c549",
   "metadata": {
    "papermill": {
     "duration": 0.050504,
     "end_time": "2021-07-26T02:39:00.838092",
     "exception": false,
     "start_time": "2021-07-26T02:39:00.787588",
     "status": "completed"
    },
    "tags": []
   },
   "source": [
    "## Accuracy by KNN"
   ]
  },
  {
   "cell_type": "code",
   "execution_count": 25,
   "id": "f6ffa803",
   "metadata": {
    "execution": {
     "iopub.execute_input": "2021-07-26T02:39:00.944845Z",
     "iopub.status.busy": "2021-07-26T02:39:00.944145Z",
     "iopub.status.idle": "2021-07-26T02:39:02.573269Z",
     "shell.execute_reply": "2021-07-26T02:39:02.572617Z",
     "shell.execute_reply.started": "2021-07-26T02:33:54.635870Z"
    },
    "papermill": {
     "duration": 1.683434,
     "end_time": "2021-07-26T02:39:02.573409",
     "exception": false,
     "start_time": "2021-07-26T02:39:00.889975",
     "status": "completed"
    },
    "tags": []
   },
   "outputs": [
    {
     "name": "stdout",
     "output_type": "stream",
     "text": [
      "Accuracy for KNN: 0.9888472479342575\n"
     ]
    }
   ],
   "source": [
    "# instantiate the estimator\n",
    "knn = KNeighborsClassifier()\n",
    "\n",
    "# fit the model\n",
    "knn.fit(X_train, y_train)\n",
    "\n",
    "# predict the response\n",
    "pred_knn = knn.predict(X_test)\n",
    "\n",
    "# accuracy score\n",
    "knn_acc = accuracy_score(y_test, pred_knn)\n",
    "print (\"Accuracy for KNN: {}\".format(knn_acc))"
   ]
  },
  {
   "cell_type": "markdown",
   "id": "cdb0fe0b",
   "metadata": {
    "papermill": {
     "duration": 0.051053,
     "end_time": "2021-07-26T02:39:02.675743",
     "exception": false,
     "start_time": "2021-07-26T02:39:02.624690",
     "status": "completed"
    },
    "tags": []
   },
   "source": []
  },
  {
   "cell_type": "code",
   "execution_count": 26,
   "id": "1bb1deca",
   "metadata": {
    "execution": {
     "iopub.execute_input": "2021-07-26T02:39:02.784429Z",
     "iopub.status.busy": "2021-07-26T02:39:02.783753Z",
     "iopub.status.idle": "2021-07-26T02:39:45.463057Z",
     "shell.execute_reply": "2021-07-26T02:39:45.462293Z",
     "shell.execute_reply.started": "2021-07-26T02:33:56.223493Z"
    },
    "papermill": {
     "duration": 42.736363,
     "end_time": "2021-07-26T02:39:45.463232",
     "exception": false,
     "start_time": "2021-07-26T02:39:02.726869",
     "status": "completed"
    },
    "tags": []
   },
   "outputs": [],
   "source": [
    "error = []\n",
    "\n",
    "# Calculating error for K values between 1 and 40\n",
    "for i in range(1, 40):\n",
    "    knn = KNeighborsClassifier(n_neighbors=i)\n",
    "    knn.fit(X_train[0:1000], y_train[0:1000])\n",
    "    pred_i = knn.predict(X_test)\n",
    "    error.append(np.mean(pred_i != y_test))"
   ]
  },
  {
   "cell_type": "code",
   "execution_count": 27,
   "id": "570df773",
   "metadata": {
    "execution": {
     "iopub.execute_input": "2021-07-26T02:39:45.590979Z",
     "iopub.status.busy": "2021-07-26T02:39:45.585376Z",
     "iopub.status.idle": "2021-07-26T02:39:45.782506Z",
     "shell.execute_reply": "2021-07-26T02:39:45.781983Z",
     "shell.execute_reply.started": "2021-07-26T02:34:40.171181Z"
    },
    "papermill": {
     "duration": 0.267111,
     "end_time": "2021-07-26T02:39:45.782652",
     "exception": false,
     "start_time": "2021-07-26T02:39:45.515541",
     "status": "completed"
    },
    "tags": []
   },
   "outputs": [
    {
     "data": {
      "text/plain": [
       "Text(0, 0.5, 'Mean Error')"
      ]
     },
     "execution_count": 27,
     "metadata": {},
     "output_type": "execute_result"
    },
    {
     "data": {
      "image/png": "[encoded data removed]",
      "text/plain": [
       "<Figure size 864x288 with 1 Axes>"
      ]
     },
     "metadata": {
      "needs_background": "light"
     },
     "output_type": "display_data"
    }
   ],
   "source": [
    "plt.figure(figsize=(12, 4))\n",
    "plt.plot(range(1, 40), error, color='red', linestyle='dashed', marker='o',\n",
    "         markerfacecolor='blue', markersize=10)\n",
    "plt.title('Error Rate K Value')\n",
    "plt.xlabel('K Value')\n",
    "plt.ylabel('Mean Error')"
   ]
  },
  {
   "cell_type": "markdown",
   "id": "345d7357",
   "metadata": {
    "papermill": {
     "duration": 0.054538,
     "end_time": "2021-07-26T02:39:45.890394",
     "exception": false,
     "start_time": "2021-07-26T02:39:45.835856",
     "status": "completed"
    },
    "tags": []
   },
   "source": [
    "## Accuracy by SVM"
   ]
  },
  {
   "cell_type": "code",
   "execution_count": 28,
   "id": "08586c93",
   "metadata": {
    "execution": {
     "iopub.execute_input": "2021-07-26T02:39:46.002109Z",
     "iopub.status.busy": "2021-07-26T02:39:46.001079Z",
     "iopub.status.idle": "2021-07-26T02:39:58.762487Z",
     "shell.execute_reply": "2021-07-26T02:39:58.761759Z",
     "shell.execute_reply.started": "2021-07-26T02:34:40.384552Z"
    },
    "papermill": {
     "duration": 12.819719,
     "end_time": "2021-07-26T02:39:58.762706",
     "exception": false,
     "start_time": "2021-07-26T02:39:45.942987",
     "status": "completed"
    },
    "tags": []
   },
   "outputs": [
    {
     "name": "stdout",
     "output_type": "stream",
     "text": [
      "Accuracy for SVM: 0.9870411342394003\n"
     ]
    }
   ],
   "source": [
    "# instantiate the estimator\n",
    "svm = SVC()\n",
    "\n",
    "# fit the model\n",
    "svm.fit(X_train, y_train)\n",
    "\n",
    "# predict the response\n",
    "pred_svm = svm.predict(X_test)\n",
    "\n",
    "# accuracy score\n",
    "svm_acc = accuracy_score(y_test, pred_svm)\n",
    "print (\"Accuracy for SVM: {}\".format(svm_acc))"
   ]
  },
  {
   "cell_type": "markdown",
   "id": "7ebdb00b",
   "metadata": {
    "papermill": {
     "duration": 0.052676,
     "end_time": "2021-07-26T02:39:58.869783",
     "exception": false,
     "start_time": "2021-07-26T02:39:58.817107",
     "status": "completed"
    },
    "tags": []
   },
   "source": [
    "## Accuracy by Naive Bayes"
   ]
  },
  {
   "cell_type": "code",
   "execution_count": 29,
   "id": "984fb3ed",
   "metadata": {
    "execution": {
     "iopub.execute_input": "2021-07-26T02:39:58.982471Z",
     "iopub.status.busy": "2021-07-26T02:39:58.981503Z",
     "iopub.status.idle": "2021-07-26T02:39:59.010381Z",
     "shell.execute_reply": "2021-07-26T02:39:59.009318Z",
     "shell.execute_reply.started": "2021-07-26T02:34:53.851655Z"
    },
    "papermill": {
     "duration": 0.088068,
     "end_time": "2021-07-26T02:39:59.010654",
     "exception": false,
     "start_time": "2021-07-26T02:39:58.922586",
     "status": "completed"
    },
    "tags": []
   },
   "outputs": [
    {
     "name": "stdout",
     "output_type": "stream",
     "text": [
      "Accuracy for Gaussian Naive Bayes: 0.9581433151216869\n"
     ]
    }
   ],
   "source": [
    "# instantiate the estimator\n",
    "nb = GaussianNB()\n",
    "\n",
    "# fit the model\n",
    "nb.fit(X_train, y_train)\n",
    "\n",
    "# predict the response\n",
    "pred_nb = nb.predict(X_test)\n",
    "\n",
    "# accuracy score\n",
    "nb_acc = accuracy_score(y_test, pred_nb)\n",
    "print (\"Accuracy for Gaussian Naive Bayes: {}\".format(nb_acc))"
   ]
  },
  {
   "cell_type": "markdown",
   "id": "123f6d3e",
   "metadata": {
    "papermill": {
     "duration": 0.05435,
     "end_time": "2021-07-26T02:39:59.120213",
     "exception": false,
     "start_time": "2021-07-26T02:39:59.065863",
     "status": "completed"
    },
    "tags": []
   },
   "source": [
    "## Accuracy by CNN model"
   ]
  },
  {
   "cell_type": "code",
   "execution_count": 30,
   "id": "7af8e3d0",
   "metadata": {
    "execution": {
     "iopub.execute_input": "2021-07-26T02:39:59.232836Z",
     "iopub.status.busy": "2021-07-26T02:39:59.232130Z",
     "iopub.status.idle": "2021-07-26T02:39:59.341155Z",
     "shell.execute_reply": "2021-07-26T02:39:59.340600Z",
     "shell.execute_reply.started": "2021-07-26T02:34:53.884398Z"
    },
    "papermill": {
     "duration": 0.167856,
     "end_time": "2021-07-26T02:39:59.341305",
     "exception": false,
     "start_time": "2021-07-26T02:39:59.173449",
     "status": "completed"
    },
    "tags": []
   },
   "outputs": [
    {
     "name": "stdout",
     "output_type": "stream",
     "text": [
      "Model: \"sequential\"\n",
      "_________________________________________________________________\n",
      " Layer (type)                Output Shape              Param #   \n",
      "=================================================================\n",
      " dense (Dense)               (None, 250)               1750      \n",
      "                                                                 \n",
      " batch_normalization (BatchN  (None, 250)              1000      \n",
      " ormalization)                                                   \n",
      "                                                                 \n",
      " dropout (Dropout)           (None, 250)               0         \n",
      "                                                                 \n",
      " dense_1 (Dense)             (None, 1)                 251       \n",
      "                                                                 \n",
      "=================================================================\n",
      "Total params: 3,001\n",
      "Trainable params: 2,501\n",
      "Non-trainable params: 500\n",
      "_________________________________________________________________\n"
     ]
    }
   ],
   "source": [
    "model = Sequential()\n",
    "model.add(Dense(250, activation = 'relu', input_shape = (6,)))\n",
    "model.add(BatchNormalization())\n",
    "model.add(Dropout(rate = 0.25))\n",
    "model.add(Dense(1, activation = 'sigmoid'))\n",
    "model.summary()"
   ]
  },
  {
   "cell_type": "code",
   "execution_count": 31,
   "id": "bf91c4f7",
   "metadata": {
    "execution": {
     "iopub.execute_input": "2021-07-26T02:39:59.460398Z",
     "iopub.status.busy": "2021-07-26T02:39:59.454958Z",
     "iopub.status.idle": "2021-07-26T02:39:59.469815Z",
     "shell.execute_reply": "2021-07-26T02:39:59.469150Z",
     "shell.execute_reply.started": "2021-07-26T02:34:53.962346Z"
    },
    "papermill": {
     "duration": 0.075039,
     "end_time": "2021-07-26T02:39:59.469958",
     "exception": false,
     "start_time": "2021-07-26T02:39:59.394919",
     "status": "completed"
    },
    "tags": []
   },
   "outputs": [],
   "source": [
    "model.compile(loss = 'binary_crossentropy', optimizer = 'ADAM', metrics = ['accuracy'])"
   ]
  },
  {
   "cell_type": "code",
   "execution_count": 32,
   "id": "a1c6a1d1",
   "metadata": {
    "execution": {
     "iopub.execute_input": "2021-07-26T02:39:59.582947Z",
     "iopub.status.busy": "2021-07-26T02:39:59.582294Z",
     "iopub.status.idle": "2021-07-26T02:39:59.585352Z",
     "shell.execute_reply": "2021-07-26T02:39:59.584841Z",
     "shell.execute_reply.started": "2021-07-26T02:34:53.984400Z"
    },
    "papermill": {
     "duration": 0.062302,
     "end_time": "2021-07-26T02:39:59.585496",
     "exception": false,
     "start_time": "2021-07-26T02:39:59.523194",
     "status": "completed"
    },
    "tags": []
   },
   "outputs": [
    {
     "name": "stdout",
     "output_type": "stream",
     "text": [
      "WARNING:tensorflow:`period` argument is deprecated. Please use `save_freq` to specify the frequency in number of batches seen.\n"
     ]
    }
   ],
   "source": [
    "checkpoint = ModelCheckpoint(\"walk_run.h5\", \n",
    "                             monitor='val_accuracy', \n",
    "                             verbose=1, \n",
    "                             save_best_only=True, \n",
    "                             save_weights_only=False, \n",
    "                             mode='auto', \n",
    "                             period=1)\n",
    "\n",
    "early = EarlyStopping(monitor='val_accuracy', \n",
    "                      min_delta=0, \n",
    "                      patience=7, \n",
    "                      verbose=1, \n",
    "                      mode='auto')"
   ]
  },
  {
   "cell_type": "markdown",
   "id": "861afb3f",
   "metadata": {
    "papermill": {
     "duration": 0.053778,
     "end_time": "2021-07-26T02:39:59.692394",
     "exception": false,
     "start_time": "2021-07-26T02:39:59.638616",
     "status": "completed"
    },
    "tags": []
   },
   "source": [
    "After several iterations of batch size and epoch tweaks, it seems that batch set to 1000 and dropout set to 25% seems to yield highest accuracy."
   ]
  },
  {
   "cell_type": "code",
   "execution_count": 33,
   "id": "3c2eaebc",
   "metadata": {
    "execution": {
     "iopub.execute_input": "2021-07-26T02:39:59.805682Z",
     "iopub.status.busy": "2021-07-26T02:39:59.805013Z",
     "iopub.status.idle": "2021-07-26T02:40:20.552733Z",
     "shell.execute_reply": "2021-07-26T02:40:20.552214Z",
     "shell.execute_reply.started": "2021-07-26T02:34:53.996451Z"
    },
    "papermill": {
     "duration": 20.806948,
     "end_time": "2021-07-26T02:40:20.552880",
     "exception": false,
     "start_time": "2021-07-26T02:39:59.745932",
     "status": "completed"
    },
    "tags": []
   },
   "outputs": [
    {
     "name": "stdout",
     "output_type": "stream",
     "text": [
      "Epoch 1/50\n",
      "\n",
      "Epoch 1: val_accuracy improved from -inf to 0.59583, saving model to walk_run.h5\n",
      "54/54 - 1s - loss: 0.3059 - accuracy: 0.8672 - val_loss: 0.5177 - val_accuracy: 0.5958 - 1s/epoch - 20ms/step\n",
      "Epoch 2/50\n",
      "\n",
      "Epoch 2: val_accuracy improved from 0.59583 to 0.67951, saving model to walk_run.h5\n",
      "54/54 - 0s - loss: 0.1117 - accuracy: 0.9645 - val_loss: 0.4534 - val_accuracy: 0.6795 - 277ms/epoch - 5ms/step\n",
      "Epoch 3/50\n",
      "\n",
      "Epoch 3: val_accuracy improved from 0.67951 to 0.79795, saving model to walk_run.h5\n",
      "54/54 - 0s - loss: 0.0854 - accuracy: 0.9722 - val_loss: 0.3790 - val_accuracy: 0.7980 - 245ms/epoch - 5ms/step\n",
      "Epoch 4/50\n",
      "\n",
      "Epoch 4: val_accuracy improved from 0.79795 to 0.89691, saving model to walk_run.h5\n",
      "54/54 - 0s - loss: 0.0711 - accuracy: 0.9777 - val_loss: 0.2993 - val_accuracy: 0.8969 - 269ms/epoch - 5ms/step\n",
      "Epoch 5/50\n",
      "\n",
      "Epoch 5: val_accuracy improved from 0.89691 to 0.95402, saving model to walk_run.h5\n",
      "54/54 - 0s - loss: 0.0636 - accuracy: 0.9795 - val_loss: 0.2157 - val_accuracy: 0.9540 - 262ms/epoch - 5ms/step\n",
      "Epoch 6/50\n",
      "\n",
      "Epoch 6: val_accuracy improved from 0.95402 to 0.98337, saving model to walk_run.h5\n",
      "54/54 - 0s - loss: 0.0598 - accuracy: 0.9808 - val_loss: 0.1339 - val_accuracy: 0.9834 - 296ms/epoch - 5ms/step\n",
      "Epoch 7/50\n",
      "\n",
      "Epoch 7: val_accuracy did not improve from 0.98337\n",
      "54/54 - 0s - loss: 0.0571 - accuracy: 0.9816 - val_loss: 0.1042 - val_accuracy: 0.9829 - 422ms/epoch - 8ms/step\n",
      "Epoch 8/50\n",
      "\n",
      "Epoch 8: val_accuracy improved from 0.98337 to 0.98585, saving model to walk_run.h5\n",
      "54/54 - 0s - loss: 0.0544 - accuracy: 0.9825 - val_loss: 0.0714 - val_accuracy: 0.9859 - 302ms/epoch - 6ms/step\n",
      "Epoch 9/50\n",
      "\n",
      "Epoch 9: val_accuracy improved from 0.98585 to 0.98593, saving model to walk_run.h5\n",
      "54/54 - 0s - loss: 0.0525 - accuracy: 0.9827 - val_loss: 0.0574 - val_accuracy: 0.9859 - 294ms/epoch - 5ms/step\n",
      "Epoch 10/50\n",
      "\n",
      "Epoch 10: val_accuracy improved from 0.98593 to 0.98645, saving model to walk_run.h5\n",
      "54/54 - 0s - loss: 0.0521 - accuracy: 0.9830 - val_loss: 0.0516 - val_accuracy: 0.9865 - 355ms/epoch - 7ms/step\n",
      "Epoch 11/50\n",
      "\n",
      "Epoch 11: val_accuracy did not improve from 0.98645\n",
      "54/54 - 0s - loss: 0.0503 - accuracy: 0.9831 - val_loss: 0.0473 - val_accuracy: 0.9864 - 250ms/epoch - 5ms/step\n",
      "Epoch 12/50\n",
      "\n",
      "Epoch 12: val_accuracy did not improve from 0.98645\n",
      "54/54 - 0s - loss: 0.0497 - accuracy: 0.9840 - val_loss: 0.0457 - val_accuracy: 0.9865 - 255ms/epoch - 5ms/step\n",
      "Epoch 13/50\n",
      "\n",
      "Epoch 13: val_accuracy did not improve from 0.98645\n",
      "54/54 - 0s - loss: 0.0477 - accuracy: 0.9844 - val_loss: 0.0436 - val_accuracy: 0.9863 - 234ms/epoch - 4ms/step\n",
      "Epoch 14/50\n",
      "\n",
      "Epoch 14: val_accuracy improved from 0.98645 to 0.98713, saving model to walk_run.h5\n",
      "54/54 - 0s - loss: 0.0475 - accuracy: 0.9844 - val_loss: 0.0424 - val_accuracy: 0.9871 - 256ms/epoch - 5ms/step\n",
      "Epoch 15/50\n",
      "\n",
      "Epoch 15: val_accuracy did not improve from 0.98713\n",
      "54/54 - 0s - loss: 0.0465 - accuracy: 0.9847 - val_loss: 0.0416 - val_accuracy: 0.9870 - 254ms/epoch - 5ms/step\n",
      "Epoch 16/50\n",
      "\n",
      "Epoch 16: val_accuracy did not improve from 0.98713\n",
      "54/54 - 0s - loss: 0.0470 - accuracy: 0.9844 - val_loss: 0.0411 - val_accuracy: 0.9870 - 281ms/epoch - 5ms/step\n",
      "Epoch 17/50\n",
      "\n",
      "Epoch 17: val_accuracy improved from 0.98713 to 0.98758, saving model to walk_run.h5\n",
      "54/54 - 0s - loss: 0.0454 - accuracy: 0.9848 - val_loss: 0.0405 - val_accuracy: 0.9876 - 257ms/epoch - 5ms/step\n",
      "Epoch 18/50\n",
      "\n",
      "Epoch 18: val_accuracy did not improve from 0.98758\n",
      "54/54 - 0s - loss: 0.0451 - accuracy: 0.9849 - val_loss: 0.0403 - val_accuracy: 0.9874 - 242ms/epoch - 4ms/step\n",
      "Epoch 19/50\n",
      "\n",
      "Epoch 19: val_accuracy improved from 0.98758 to 0.98788, saving model to walk_run.h5\n",
      "54/54 - 0s - loss: 0.0437 - accuracy: 0.9855 - val_loss: 0.0394 - val_accuracy: 0.9879 - 271ms/epoch - 5ms/step\n",
      "Epoch 20/50\n",
      "\n",
      "Epoch 20: val_accuracy improved from 0.98788 to 0.98826, saving model to walk_run.h5\n",
      "54/54 - 0s - loss: 0.0437 - accuracy: 0.9858 - val_loss: 0.0393 - val_accuracy: 0.9883 - 265ms/epoch - 5ms/step\n",
      "Epoch 21/50\n",
      "\n",
      "Epoch 21: val_accuracy did not improve from 0.98826\n",
      "54/54 - 0s - loss: 0.0436 - accuracy: 0.9854 - val_loss: 0.0386 - val_accuracy: 0.9880 - 240ms/epoch - 4ms/step\n",
      "Epoch 22/50\n",
      "\n",
      "Epoch 22: val_accuracy did not improve from 0.98826\n",
      "54/54 - 0s - loss: 0.0430 - accuracy: 0.9861 - val_loss: 0.0399 - val_accuracy: 0.9879 - 232ms/epoch - 4ms/step\n",
      "Epoch 23/50\n",
      "\n",
      "Epoch 23: val_accuracy did not improve from 0.98826\n",
      "54/54 - 0s - loss: 0.0424 - accuracy: 0.9863 - val_loss: 0.0379 - val_accuracy: 0.9876 - 255ms/epoch - 5ms/step\n",
      "Epoch 24/50\n",
      "\n",
      "Epoch 24: val_accuracy did not improve from 0.98826\n",
      "54/54 - 0s - loss: 0.0426 - accuracy: 0.9860 - val_loss: 0.0395 - val_accuracy: 0.9880 - 240ms/epoch - 4ms/step\n",
      "Epoch 25/50\n",
      "\n",
      "Epoch 25: val_accuracy improved from 0.98826 to 0.98841, saving model to walk_run.h5\n",
      "54/54 - 0s - loss: 0.0421 - accuracy: 0.9863 - val_loss: 0.0373 - val_accuracy: 0.9884 - 273ms/epoch - 5ms/step\n",
      "Epoch 26/50\n",
      "\n",
      "Epoch 26: val_accuracy did not improve from 0.98841\n",
      "54/54 - 0s - loss: 0.0413 - accuracy: 0.9864 - val_loss: 0.0375 - val_accuracy: 0.9879 - 234ms/epoch - 4ms/step\n",
      "Epoch 27/50\n",
      "\n",
      "Epoch 27: val_accuracy improved from 0.98841 to 0.98886, saving model to walk_run.h5\n",
      "54/54 - 0s - loss: 0.0416 - accuracy: 0.9862 - val_loss: 0.0366 - val_accuracy: 0.9889 - 263ms/epoch - 5ms/step\n",
      "Epoch 28/50\n",
      "\n",
      "Epoch 28: val_accuracy did not improve from 0.98886\n",
      "54/54 - 0s - loss: 0.0412 - accuracy: 0.9861 - val_loss: 0.0369 - val_accuracy: 0.9884 - 230ms/epoch - 4ms/step\n",
      "Epoch 29/50\n",
      "\n",
      "Epoch 29: val_accuracy did not improve from 0.98886\n",
      "54/54 - 0s - loss: 0.0406 - accuracy: 0.9863 - val_loss: 0.0362 - val_accuracy: 0.9888 - 239ms/epoch - 4ms/step\n",
      "Epoch 30/50\n",
      "\n",
      "Epoch 30: val_accuracy improved from 0.98886 to 0.98931, saving model to walk_run.h5\n",
      "54/54 - 0s - loss: 0.0407 - accuracy: 0.9865 - val_loss: 0.0362 - val_accuracy: 0.9893 - 250ms/epoch - 5ms/step\n",
      "Epoch 31/50\n",
      "\n",
      "Epoch 31: val_accuracy did not improve from 0.98931\n",
      "54/54 - 0s - loss: 0.0405 - accuracy: 0.9868 - val_loss: 0.0355 - val_accuracy: 0.9885 - 248ms/epoch - 5ms/step\n",
      "Epoch 32/50\n",
      "\n",
      "Epoch 32: val_accuracy did not improve from 0.98931\n",
      "54/54 - 0s - loss: 0.0388 - accuracy: 0.9870 - val_loss: 0.0358 - val_accuracy: 0.9892 - 235ms/epoch - 4ms/step\n",
      "Epoch 33/50\n",
      "\n",
      "Epoch 33: val_accuracy did not improve from 0.98931\n",
      "54/54 - 0s - loss: 0.0403 - accuracy: 0.9865 - val_loss: 0.0352 - val_accuracy: 0.9885 - 234ms/epoch - 4ms/step\n",
      "Epoch 34/50\n",
      "\n",
      "Epoch 34: val_accuracy did not improve from 0.98931\n",
      "54/54 - 0s - loss: 0.0402 - accuracy: 0.9866 - val_loss: 0.0354 - val_accuracy: 0.9890 - 232ms/epoch - 4ms/step\n",
      "Epoch 35/50\n",
      "\n",
      "Epoch 35: val_accuracy did not improve from 0.98931\n",
      "54/54 - 0s - loss: 0.0400 - accuracy: 0.9868 - val_loss: 0.0350 - val_accuracy: 0.9886 - 379ms/epoch - 7ms/step\n",
      "Epoch 36/50\n",
      "\n",
      "Epoch 36: val_accuracy did not improve from 0.98931\n",
      "54/54 - 0s - loss: 0.0385 - accuracy: 0.9871 - val_loss: 0.0349 - val_accuracy: 0.9883 - 240ms/epoch - 4ms/step\n",
      "Epoch 37/50\n",
      "\n",
      "Epoch 37: val_accuracy did not improve from 0.98931\n",
      "54/54 - 0s - loss: 0.0399 - accuracy: 0.9869 - val_loss: 0.0349 - val_accuracy: 0.9887 - 388ms/epoch - 7ms/step\n",
      "Epoch 37: early stopping\n"
     ]
    }
   ],
   "source": [
    "history = model.fit(X_train, y_train, \n",
    "          batch_size = 1000, \n",
    "          epochs = 50, \n",
    "          validation_split = 0.2,\n",
    "          callbacks=[checkpoint,early],\n",
    "          verbose = 2)"
   ]
  },
  {
   "cell_type": "code",
   "execution_count": 34,
   "id": "c315be3e",
   "metadata": {
    "execution": {
     "iopub.execute_input": "2021-07-26T02:40:20.714247Z",
     "iopub.status.busy": "2021-07-26T02:40:20.713551Z",
     "iopub.status.idle": "2021-07-26T02:40:20.925238Z",
     "shell.execute_reply": "2021-07-26T02:40:20.924726Z",
     "shell.execute_reply.started": "2021-07-26T02:35:18.496114Z"
    },
    "papermill": {
     "duration": 0.295308,
     "end_time": "2021-07-26T02:40:20.925383",
     "exception": false,
     "start_time": "2021-07-26T02:40:20.630075",
     "status": "completed"
    },
    "tags": []
   },
   "outputs": [
    {
     "name": "stdout",
     "output_type": "stream",
     "text": [
      "Evaluate model on test data\n",
      "23/23 [==============================] - 0s 2ms/step - loss: 0.0362 - accuracy: 0.9881\n",
      "test loss, test acc: [0.03620617464184761, 0.9880796670913696]\n",
      "Generate a prediction\n",
      "prediction shape: (1, 1)\n"
     ]
    }
   ],
   "source": [
    "print(\"Evaluate model on test data\")\n",
    "\n",
    "results = model.evaluate(X_test, y_test, batch_size=1000)\n",
    "\n",
    "print(\"test loss, test acc:\", results)\n",
    "\n",
    "# Generate a prediction using model.predict() \n",
    "# and calculate it's shape:\n",
    "\n",
    "print(\"Generate a prediction\")\n",
    "\n",
    "prediction = model.predict(X_test[:1])\n",
    "\n",
    "print(\"prediction shape:\", prediction.shape)"
   ]
  },
  {
   "cell_type": "markdown",
   "id": "b76a8791",
   "metadata": {
    "papermill": {
     "duration": 0.080671,
     "end_time": "2021-07-26T02:40:21.087654",
     "exception": false,
     "start_time": "2021-07-26T02:40:21.006983",
     "status": "completed"
    },
    "tags": []
   },
   "source": [
    "Best model accuracy sliced by the row with lowest loss"
   ]
  },
  {
   "cell_type": "code",
   "execution_count": 35,
   "id": "4fff4d14",
   "metadata": {
    "execution": {
     "iopub.execute_input": "2021-07-26T02:40:21.256916Z",
     "iopub.status.busy": "2021-07-26T02:40:21.256181Z",
     "iopub.status.idle": "2021-07-26T02:40:21.259930Z",
     "shell.execute_reply": "2021-07-26T02:40:21.259421Z",
     "shell.execute_reply.started": "2021-07-26T02:35:18.768462Z"
    },
    "papermill": {
     "duration": 0.091925,
     "end_time": "2021-07-26T02:40:21.260069",
     "exception": false,
     "start_time": "2021-07-26T02:40:21.168144",
     "status": "completed"
    },
    "tags": []
   },
   "outputs": [
    {
     "name": "stdout",
     "output_type": "stream",
     "text": [
      "Accuracy for CNN: 0.9871312379837036\n"
     ]
    }
   ],
   "source": [
    "best_model_acc = history.history['accuracy'][np.argmin(history.history['loss'])]\n",
    "cnn_acc = best_model_acc\n",
    "\n",
    "print (\"Accuracy for CNN: {}\".format(cnn_acc))\n"
   ]
  },
  {
   "cell_type": "code",
   "execution_count": 36,
   "id": "7d44bf9c",
   "metadata": {
    "execution": {
     "iopub.execute_input": "2021-07-26T02:40:21.478184Z",
     "iopub.status.busy": "2021-07-26T02:40:21.477445Z",
     "iopub.status.idle": "2021-07-26T02:40:21.596368Z",
     "shell.execute_reply": "2021-07-26T02:40:21.596868Z",
     "shell.execute_reply.started": "2021-07-26T02:35:18.777969Z"
    },
    "papermill": {
     "duration": 0.257604,
     "end_time": "2021-07-26T02:40:21.597050",
     "exception": false,
     "start_time": "2021-07-26T02:40:21.339446",
     "status": "completed"
    },
    "scrolled": true,
    "tags": []
   },
   "outputs": [
    {
     "data": {
      "image/png": "[encoded data removed]",
      "text/plain": [
       "<Figure size 432x288 with 1 Axes>"
      ]
     },
     "metadata": {
      "needs_background": "light"
     },
     "output_type": "display_data"
    }
   ],
   "source": [
    "plt.plot(history.history['accuracy'])\n",
    "plt.plot(history.history['val_accuracy'])\n",
    "plt.title('model accuracy')\n",
    "plt.ylabel('accuracy')\n",
    "plt.xlabel('epoch')\n",
    "plt.legend(['train', 'val'], loc='upper left')\n",
    "plt.show()"
   ]
  },
  {
   "cell_type": "code",
   "execution_count": 37,
   "id": "dcaf0198",
   "metadata": {
    "execution": {
     "iopub.execute_input": "2021-07-26T02:40:21.809699Z",
     "iopub.status.busy": "2021-07-26T02:40:21.781584Z",
     "iopub.status.idle": "2021-07-26T02:40:21.934811Z",
     "shell.execute_reply": "2021-07-26T02:40:21.934230Z",
     "shell.execute_reply.started": "2021-07-26T02:35:18.975535Z"
    },
    "papermill": {
     "duration": 0.258083,
     "end_time": "2021-07-26T02:40:21.934957",
     "exception": false,
     "start_time": "2021-07-26T02:40:21.676874",
     "status": "completed"
    },
    "tags": []
   },
   "outputs": [
    {
     "data": {
      "image/png": "[encoded data removed]",
      "text/plain": [
       "<Figure size 432x288 with 1 Axes>"
      ]
     },
     "metadata": {
      "needs_background": "light"
     },
     "output_type": "display_data"
    }
   ],
   "source": [
    "plt.plot(history.history['loss'])\n",
    "plt.plot(history.history['val_loss'])\n",
    "plt.title('model loss')\n",
    "plt.ylabel('loss')\n",
    "plt.xlabel('epoch')\n",
    "plt.legend(['train', 'val'], loc='upper left')\n",
    "plt.show()"
   ]
  },
  {
   "cell_type": "code",
   "execution_count": 38,
   "id": "dae2df27",
   "metadata": {
    "execution": {
     "iopub.execute_input": "2021-07-26T02:40:22.105802Z",
     "iopub.status.busy": "2021-07-26T02:40:22.104396Z",
     "iopub.status.idle": "2021-07-26T02:40:22.700874Z",
     "shell.execute_reply": "2021-07-26T02:40:22.700239Z",
     "shell.execute_reply.started": "2021-07-26T02:35:19.153458Z"
    },
    "papermill": {
     "duration": 0.683891,
     "end_time": "2021-07-26T02:40:22.701015",
     "exception": false,
     "start_time": "2021-07-26T02:40:22.017124",
     "status": "completed"
    },
    "tags": []
   },
   "outputs": [
    {
     "data": {
      "text/plain": [
       "array([[10984,   110],\n",
       "       [  154, 10899]], dtype=int64)"
      ]
     },
     "execution_count": 38,
     "metadata": {},
     "output_type": "execute_result"
    }
   ],
   "source": [
    "y_pred = model.predict(X_test)\n",
    "cm = confusion_matrix(y_test, np.rint(y_pred))\n",
    "cm"
   ]
  },
  {
   "cell_type": "code",
   "execution_count": 39,
   "id": "04cfc89c",
   "metadata": {
    "execution": {
     "iopub.execute_input": "2021-07-26T02:40:22.868936Z",
     "iopub.status.busy": "2021-07-26T02:40:22.867884Z",
     "iopub.status.idle": "2021-07-26T02:40:22.877706Z",
     "shell.execute_reply": "2021-07-26T02:40:22.878188Z",
     "shell.execute_reply.started": "2021-07-26T02:35:19.901387Z"
    },
    "papermill": {
     "duration": 0.095571,
     "end_time": "2021-07-26T02:40:22.878372",
     "exception": false,
     "start_time": "2021-07-26T02:40:22.782801",
     "status": "completed"
    },
    "tags": []
   },
   "outputs": [],
   "source": [
    "def plot_confusion_matrix(cm, classes,\n",
    "                        normalize=False,\n",
    "                        title='Confusion matrix',\n",
    "                        cmap=plt.cm.Blues):\n",
    "    \"\"\"\n",
    "    This function prints and plots the confusion matrix.\n",
    "    Normalization can be applied by setting `normalize=True`.\n",
    "    \"\"\"\n",
    "    plt.imshow(cm, interpolation='nearest', cmap=cmap)\n",
    "    plt.title(title)\n",
    "    plt.colorbar()\n",
    "    tick_marks = np.arange(len(classes))\n",
    "    plt.xticks(tick_marks, classes, rotation=45)\n",
    "    plt.yticks(tick_marks, classes)\n",
    "\n",
    "    if normalize:\n",
    "        cm = cm.astype('float') / cm.sum(axis=1)[:, np.newaxis]\n",
    "        print(\"Normalized confusion matrix\")\n",
    "    else:\n",
    "        print('Confusion matrix, without normalization')\n",
    "\n",
    "    print(cm)\n",
    "\n",
    "    thresh = cm.max() / 2.\n",
    "    for i, j in itertools.product(range(cm.shape[0]), range(cm.shape[1])):\n",
    "        plt.text(j, i, cm[i, j],\n",
    "            horizontalalignment=\"center\",\n",
    "            color=\"white\" if cm[i, j] > thresh else \"black\")\n",
    "\n",
    "    plt.tight_layout()\n",
    "    plt.ylabel('True label')\n",
    "    plt.xlabel('Predicted label')"
   ]
  },
  {
   "cell_type": "code",
   "execution_count": 40,
   "id": "9890e927",
   "metadata": {
    "execution": {
     "iopub.execute_input": "2021-07-26T02:40:23.048017Z",
     "iopub.status.busy": "2021-07-26T02:40:23.046784Z",
     "iopub.status.idle": "2021-07-26T02:40:23.334579Z",
     "shell.execute_reply": "2021-07-26T02:40:23.333947Z",
     "shell.execute_reply.started": "2021-07-26T02:35:19.913633Z"
    },
    "papermill": {
     "duration": 0.373896,
     "end_time": "2021-07-26T02:40:23.334738",
     "exception": false,
     "start_time": "2021-07-26T02:40:22.960842",
     "status": "completed"
    },
    "tags": []
   },
   "outputs": [
    {
     "name": "stdout",
     "output_type": "stream",
     "text": [
      "Confusion matrix, without normalization\n",
      "[[10984   110]\n",
      " [  154 10899]]\n"
     ]
    },
    {
     "data": {
      "image/png": "[encoded data removed]",
      "text/plain": [
       "<Figure size 432x288 with 2 Axes>"
      ]
     },
     "metadata": {
      "needs_background": "light"
     },
     "output_type": "display_data"
    }
   ],
   "source": [
    "cm_plot_labels = ['run','walk']\n",
    "plot_confusion_matrix(cm=cm, classes=cm_plot_labels, title='Confusion Matrix')\n"
   ]
  },
  {
   "cell_type": "code",
   "execution_count": 41,
   "id": "d7a838de",
   "metadata": {
    "execution": {
     "iopub.execute_input": "2021-07-26T02:40:23.512905Z",
     "iopub.status.busy": "2021-07-26T02:40:23.511911Z",
     "iopub.status.idle": "2021-07-26T02:40:23.516583Z",
     "shell.execute_reply": "2021-07-26T02:40:23.515895Z",
     "shell.execute_reply.started": "2021-07-26T02:35:20.215393Z"
    },
    "papermill": {
     "duration": 0.099322,
     "end_time": "2021-07-26T02:40:23.516752",
     "exception": false,
     "start_time": "2021-07-26T02:40:23.417430",
     "status": "completed"
    },
    "tags": []
   },
   "outputs": [
    {
     "data": {
      "text/html": [
       "<div>\n",
       "<style scoped>\n",
       "    .dataframe tbody tr th:only-of-type {\n",
       "        vertical-align: middle;\n",
       "    }\n",
       "\n",
       "    .dataframe tbody tr th {\n",
       "        vertical-align: top;\n",
       "    }\n",
       "\n",
       "    .dataframe thead th {\n",
       "        text-align: right;\n",
       "    }\n",
       "</style>\n",
       "<table border=\"1\" class=\"dataframe\">\n",
       "  <thead>\n",
       "    <tr style=\"text-align: right;\">\n",
       "      <th></th>\n",
       "      <th>accuracy</th>\n",
       "    </tr>\n",
       "  </thead>\n",
       "  <tbody>\n",
       "    <tr>\n",
       "      <th>KNN</th>\n",
       "      <td>0.988847</td>\n",
       "    </tr>\n",
       "    <tr>\n",
       "      <th>CNN</th>\n",
       "      <td>0.987131</td>\n",
       "    </tr>\n",
       "    <tr>\n",
       "      <th>SVM</th>\n",
       "      <td>0.987041</td>\n",
       "    </tr>\n",
       "    <tr>\n",
       "      <th>Naive Bayes</th>\n",
       "      <td>0.958143</td>\n",
       "    </tr>\n",
       "    <tr>\n",
       "      <th>Logistic Regression</th>\n",
       "      <td>0.853073</td>\n",
       "    </tr>\n",
       "  </tbody>\n",
       "</table>\n",
       "</div>"
      ],
      "text/plain": [
       "                     accuracy\n",
       "KNN                  0.988847\n",
       "CNN                  0.987131\n",
       "SVM                  0.987041\n",
       "Naive Bayes          0.958143\n",
       "Logistic Regression  0.853073"
      ]
     },
     "execution_count": 41,
     "metadata": {},
     "output_type": "execute_result"
    }
   ],
   "source": [
    "models = pd.DataFrame([logr_acc,svm_acc,knn_acc,nb_acc,cnn_acc],\n",
    "             index=['Logistic Regression','SVM','KNN','Naive Bayes','CNN'],columns=['accuracy'])\n",
    "\n",
    "models.sort_values('accuracy', ascending=False)"
   ]
  },
  {
   "cell_type": "code",
   "execution_count": 42,
   "id": "9a89bad3",
   "metadata": {
    "execution": {
     "iopub.execute_input": "2021-07-26T02:40:23.698527Z",
     "iopub.status.busy": "2021-07-26T02:40:23.697527Z",
     "iopub.status.idle": "2021-07-26T02:40:23.702275Z",
     "shell.execute_reply": "2021-07-26T02:40:23.701554Z",
     "shell.execute_reply.started": "2021-07-26T02:35:20.230426Z"
    },
    "papermill": {
     "duration": 0.094268,
     "end_time": "2021-07-26T02:40:23.702426",
     "exception": false,
     "start_time": "2021-07-26T02:40:23.608158",
     "status": "completed"
    },
    "tags": []
   },
   "outputs": [
    {
     "data": {
      "text/plain": [
       "array([0.98884725, 0.98713124, 0.98704113, 0.95814332, 0.85307265])"
      ]
     },
     "execution_count": 42,
     "metadata": {},
     "output_type": "execute_result"
    }
   ],
   "source": [
    "models.accuracy.sort_values(ascending=False).values"
   ]
  },
  {
   "cell_type": "code",
   "execution_count": 43,
   "id": "f5a3a8a9",
   "metadata": {
    "execution": {
     "iopub.execute_input": "2021-07-26T02:40:23.914125Z",
     "iopub.status.busy": "2021-07-26T02:40:23.907981Z",
     "iopub.status.idle": "2021-07-26T02:40:24.062115Z",
     "shell.execute_reply": "2021-07-26T02:40:24.061076Z",
     "shell.execute_reply.started": "2021-07-26T02:35:20.248166Z"
    },
    "papermill": {
     "duration": 0.270241,
     "end_time": "2021-07-26T02:40:24.062273",
     "exception": false,
     "start_time": "2021-07-26T02:40:23.792032",
     "status": "completed"
    },
    "tags": []
   },
   "outputs": [
    {
     "data": {
      "text/plain": [
       "<AxesSubplot:>"
      ]
     },
     "execution_count": 43,
     "metadata": {},
     "output_type": "execute_result"
    },
    {
     "data": {
      "image/png": "[encoded data removed]",
      "text/plain": [
       "<Figure size 432x288 with 1 Axes>"
      ]
     },
     "metadata": {
      "needs_background": "light"
     },
     "output_type": "display_data"
    }
   ],
   "source": [
    "sns.barplot(x = models.accuracy.sort_values(ascending=False).values, \n",
    "            y = models.accuracy.sort_values(ascending=False).index)\n"
   ]
  },
  {
   "cell_type": "code",
   "execution_count": null,
   "id": "fd6af3b2",
   "metadata": {
    "papermill": {
     "duration": 0.085169,
     "end_time": "2021-07-26T02:40:24.233038",
     "exception": false,
     "start_time": "2021-07-26T02:40:24.147869",
     "status": "completed"
    },
    "tags": []
   },
   "outputs": [],
   "source": []
  }
 ],
 "metadata": {
  "kernelspec": {
   "display_name": "Python 3 (ipykernel)",
   "language": "python",
   "name": "python3"
  },
  "language_info": {
   "codemirror_mode": {
    "name": "ipython",
    "version": 3
   },
   "file_extension": ".py",
   "mimetype": "text/x-python",
   "name": "python",
   "nbconvert_exporter": "python",
   "pygments_lexer": "ipython3",
   "version": "3.10.4"
  },
  "papermill": {
   "default_parameters": {},
   "duration": 107.896314,
   "end_time": "2021-07-26T02:40:26.133162",
   "environment_variables": {},
   "exception": null,
   "input_path": "__notebook__.ipynb",
   "output_path": "__notebook__.ipynb",
   "parameters": {},
   "start_time": "2021-07-26T02:38:38.236848",
   "version": "2.3.3"
  }
 },
 "nbformat": 4,
 "nbformat_minor": 5
}
